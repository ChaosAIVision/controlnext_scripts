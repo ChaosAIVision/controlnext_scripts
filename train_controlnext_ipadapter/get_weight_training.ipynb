{
  "nbformat": 4,
  "nbformat_minor": 0,
  "metadata": {
    "colab": {
      "provenance": [],
      "gpuType": "T4"
    },
    "kernelspec": {
      "name": "python3",
      "display_name": "Python 3"
    },
    "language_info": {
      "name": "python"
    },
    "accelerator": "GPU"
  },
  "cells": [
    {
      "cell_type": "code",
      "execution_count": null,
      "metadata": {
        "id": "j_HLPYl9MAoH"
      },
      "outputs": [],
      "source": [
        "import os"
      ]
    },
    {
      "cell_type": "code",
      "source": [
        "weight_dir_path = '/content/weightsdir'"
      ],
      "metadata": {
        "id": "CoN62Vm8MsxS"
      },
      "execution_count": null,
      "outputs": []
    },
    {
      "cell_type": "code",
      "source": [
        "weight_dir = os.makedirs(weight_dir_path, exist_ok= True)"
      ],
      "metadata": {
        "id": "ssrGod9RMzDQ"
      },
      "execution_count": null,
      "outputs": []
    },
    {
      "cell_type": "code",
      "source": [
        "%cd {weight_dir_path}\n"
      ],
      "metadata": {
        "colab": {
          "base_uri": "https://localhost:8080/"
        },
        "id": "QjThAprTM1Z0",
        "outputId": "b80bb08a-64b9-4a39-ad99-acb200798ac6"
      },
      "execution_count": null,
      "outputs": [
        {
          "output_type": "stream",
          "name": "stdout",
          "text": [
            "/content/weightsdir\n"
          ]
        }
      ]
    },
    {
      "cell_type": "code",
      "source": [
        "!mkdir text_encoder\n",
        "%cd text_encoder\n",
        "!wget https://huggingface.co/stable-diffusion-v1-5/stable-diffusion-v1-5/resolve/main/text_encoder/config.json\n",
        "!wget https://huggingface.co/stable-diffusion-v1-5/stable-diffusion-v1-5/resolve/main/text_encoder/pytorch_model.bin\n",
        "!wget https://huggingface.co/stable-diffusion-v1-5/stable-diffusion-v1-5/resolve/main/text_encoder/model.safetensors\n",
        "%cd .."
      ],
      "metadata": {
        "colab": {
          "base_uri": "https://localhost:8080/"
        },
        "id": "cB2vcYwtzxx-",
        "outputId": "cc7bf2ab-6c67-4da0-80e6-1333294d4122"
      },
      "execution_count": null,
      "outputs": [
        {
          "output_type": "stream",
          "name": "stdout",
          "text": [
            "/content/weightsdir/text_encoder\n",
            "--2024-10-17 14:11:11--  https://huggingface.co/stable-diffusion-v1-5/stable-diffusion-v1-5/resolve/main/text_encoder/config.json\n",
            "Resolving huggingface.co (huggingface.co)... 13.33.30.76, 13.33.30.49, 13.33.30.114, ...\n",
            "Connecting to huggingface.co (huggingface.co)|13.33.30.76|:443... connected.\n",
            "HTTP request sent, awaiting response... 200 OK\n",
            "Length: 617 [text/plain]\n",
            "Saving to: ‘config.json’\n",
            "\n",
            "config.json         100%[===================>]     617  --.-KB/s    in 0s      \n",
            "\n",
            "2024-10-17 14:11:11 (332 MB/s) - ‘config.json’ saved [617/617]\n",
            "\n",
            "--2024-10-17 14:11:11--  https://huggingface.co/stable-diffusion-v1-5/stable-diffusion-v1-5/resolve/main/text_encoder/pytorch_model.bin\n",
            "Resolving huggingface.co (huggingface.co)... 13.33.30.76, 13.33.30.49, 13.33.30.114, ...\n",
            "Connecting to huggingface.co (huggingface.co)|13.33.30.76|:443... connected.\n",
            "HTTP request sent, awaiting response... 302 Found\n",
            "Location: https://cdn-lfs.hf.co/repos/66/6f/666f465fa70158515404e8de2c6bc6fe2f90c46f9296293aa14daededeb32c52/770a47a9ffdcfda0b05506a7888ed714d06131d60267e6cf52765d61cf59fd67?response-content-disposition=inline%3B+filename*%3DUTF-8%27%27pytorch_model.bin%3B+filename%3D%22pytorch_model.bin%22%3B&response-content-type=application%2Foctet-stream&Expires=1729433471&Policy=eyJTdGF0ZW1lbnQiOlt7IkNvbmRpdGlvbiI6eyJEYXRlTGVzc1RoYW4iOnsiQVdTOkVwb2NoVGltZSI6MTcyOTQzMzQ3MX19LCJSZXNvdXJjZSI6Imh0dHBzOi8vY2RuLWxmcy5oZi5jby9yZXBvcy82Ni82Zi82NjZmNDY1ZmE3MDE1ODUxNTQwNGU4ZGUyYzZiYzZmZTJmOTBjNDZmOTI5NjI5M2FhMTRkYWVkZWRlYjMyYzUyLzc3MGE0N2E5ZmZkY2ZkYTBiMDU1MDZhNzg4OGVkNzE0ZDA2MTMxZDYwMjY3ZTZjZjUyNzY1ZDYxY2Y1OWZkNjc%7EcmVzcG9uc2UtY29udGVudC1kaXNwb3NpdGlvbj0qJnJlc3BvbnNlLWNvbnRlbnQtdHlwZT0qIn1dfQ__&Signature=A0VYoOCBOy2MewupVo%7EKzJYYnhlQE6gnIMLCpy66ozub3edFNlFjTY%7EiRNNZD5SwK%7EV550RcI3oNjD-c6RKCaOboB919EXzUqqoXBmBZ07uFPF%7E2cCBB4wssPcxV9VRchfNw2%7EFuMFhfOp7LXksm97u3ovwbBj3ULt2crc4JxI5wNqyF9AE67rJ5u-QfRKsVi5-uVC9Vf9fcbz%7EML7ybU3878%7Enb-LEOvjoIAByXxI5UoJ5oPM7qWHax%7EQ9OPZfuWZuOU11yONUkF5BR%7EWvpz2usRzjqqePkTwhyzHTOkdcV96I3e1P7FhPPMElITDsHIU2DCgTIOfOOZD1hzLedLQ__&Key-Pair-Id=K3RPWS32NSSJCE [following]\n",
            "--2024-10-17 14:11:11--  https://cdn-lfs.hf.co/repos/66/6f/666f465fa70158515404e8de2c6bc6fe2f90c46f9296293aa14daededeb32c52/770a47a9ffdcfda0b05506a7888ed714d06131d60267e6cf52765d61cf59fd67?response-content-disposition=inline%3B+filename*%3DUTF-8%27%27pytorch_model.bin%3B+filename%3D%22pytorch_model.bin%22%3B&response-content-type=application%2Foctet-stream&Expires=1729433471&Policy=eyJTdGF0ZW1lbnQiOlt7IkNvbmRpdGlvbiI6eyJEYXRlTGVzc1RoYW4iOnsiQVdTOkVwb2NoVGltZSI6MTcyOTQzMzQ3MX19LCJSZXNvdXJjZSI6Imh0dHBzOi8vY2RuLWxmcy5oZi5jby9yZXBvcy82Ni82Zi82NjZmNDY1ZmE3MDE1ODUxNTQwNGU4ZGUyYzZiYzZmZTJmOTBjNDZmOTI5NjI5M2FhMTRkYWVkZWRlYjMyYzUyLzc3MGE0N2E5ZmZkY2ZkYTBiMDU1MDZhNzg4OGVkNzE0ZDA2MTMxZDYwMjY3ZTZjZjUyNzY1ZDYxY2Y1OWZkNjc%7EcmVzcG9uc2UtY29udGVudC1kaXNwb3NpdGlvbj0qJnJlc3BvbnNlLWNvbnRlbnQtdHlwZT0qIn1dfQ__&Signature=A0VYoOCBOy2MewupVo%7EKzJYYnhlQE6gnIMLCpy66ozub3edFNlFjTY%7EiRNNZD5SwK%7EV550RcI3oNjD-c6RKCaOboB919EXzUqqoXBmBZ07uFPF%7E2cCBB4wssPcxV9VRchfNw2%7EFuMFhfOp7LXksm97u3ovwbBj3ULt2crc4JxI5wNqyF9AE67rJ5u-QfRKsVi5-uVC9Vf9fcbz%7EML7ybU3878%7Enb-LEOvjoIAByXxI5UoJ5oPM7qWHax%7EQ9OPZfuWZuOU11yONUkF5BR%7EWvpz2usRzjqqePkTwhyzHTOkdcV96I3e1P7FhPPMElITDsHIU2DCgTIOfOOZD1hzLedLQ__&Key-Pair-Id=K3RPWS32NSSJCE\n",
            "Resolving cdn-lfs.hf.co (cdn-lfs.hf.co)... 18.155.68.85, 18.155.68.34, 18.155.68.37, ...\n",
            "Connecting to cdn-lfs.hf.co (cdn-lfs.hf.co)|18.155.68.85|:443... connected.\n",
            "HTTP request sent, awaiting response... 200 OK\n",
            "Length: 492305335 (469M) [application/octet-stream]\n",
            "Saving to: ‘pytorch_model.bin’\n",
            "\n",
            "pytorch_model.bin   100%[===================>] 469.50M   136MB/s    in 3.4s    \n",
            "\n",
            "2024-10-17 14:11:15 (139 MB/s) - ‘pytorch_model.bin’ saved [492305335/492305335]\n",
            "\n",
            "--2024-10-17 14:11:15--  https://huggingface.co/stable-diffusion-v1-5/stable-diffusion-v1-5/resolve/main/text_encoder/model.safetensors\n",
            "Resolving huggingface.co (huggingface.co)... 13.33.30.76, 13.33.30.114, 13.33.30.49, ...\n",
            "Connecting to huggingface.co (huggingface.co)|13.33.30.76|:443... connected.\n",
            "HTTP request sent, awaiting response... 302 Found\n",
            "Location: https://cdn-lfs.hf.co/repos/66/6f/666f465fa70158515404e8de2c6bc6fe2f90c46f9296293aa14daededeb32c52/d008943c017f0092921106440254dbbe00b6a285f7883ec8ba160c3faad88334?response-content-disposition=inline%3B+filename*%3DUTF-8%27%27model.safetensors%3B+filename%3D%22model.safetensors%22%3B&Expires=1729433475&Policy=eyJTdGF0ZW1lbnQiOlt7IkNvbmRpdGlvbiI6eyJEYXRlTGVzc1RoYW4iOnsiQVdTOkVwb2NoVGltZSI6MTcyOTQzMzQ3NX19LCJSZXNvdXJjZSI6Imh0dHBzOi8vY2RuLWxmcy5oZi5jby9yZXBvcy82Ni82Zi82NjZmNDY1ZmE3MDE1ODUxNTQwNGU4ZGUyYzZiYzZmZTJmOTBjNDZmOTI5NjI5M2FhMTRkYWVkZWRlYjMyYzUyL2QwMDg5NDNjMDE3ZjAwOTI5MjExMDY0NDAyNTRkYmJlMDBiNmEyODVmNzg4M2VjOGJhMTYwYzNmYWFkODgzMzQ%7EcmVzcG9uc2UtY29udGVudC1kaXNwb3NpdGlvbj0qIn1dfQ__&Signature=RLEpXt-XZ3pv7QH2qwujch9QMZNuE9913qq5zI9nAs9-yVril1P-HcundbtEul5URLc4FEcIsm3fV8tq5-cybDcuQbSLJxFGwSlCBFF2oaGa46Tet5xEyyGFS%7EbislDLZUDElf9qAFHMBG14Nh8x5eFVhZSOAcuVCwMuLkjds%7Ew0WnNkGvA6tw2Z6hB8d06KfFENSKlVYdjWD9ogHN%7EncfF2QSesL2zdUzEt4OoTydG8PORx2fm07iefg-FAlvMMFpMngmRZojEA2OahLJ1AgFq4T-N%7EuXr7Jx0h%7E2hH4onMxRg9f2Js7bccsk%7E5HavwmNxq1Bkmsxs%7EpzvMDZv2Ug__&Key-Pair-Id=K3RPWS32NSSJCE [following]\n",
            "--2024-10-17 14:11:15--  https://cdn-lfs.hf.co/repos/66/6f/666f465fa70158515404e8de2c6bc6fe2f90c46f9296293aa14daededeb32c52/d008943c017f0092921106440254dbbe00b6a285f7883ec8ba160c3faad88334?response-content-disposition=inline%3B+filename*%3DUTF-8%27%27model.safetensors%3B+filename%3D%22model.safetensors%22%3B&Expires=1729433475&Policy=eyJTdGF0ZW1lbnQiOlt7IkNvbmRpdGlvbiI6eyJEYXRlTGVzc1RoYW4iOnsiQVdTOkVwb2NoVGltZSI6MTcyOTQzMzQ3NX19LCJSZXNvdXJjZSI6Imh0dHBzOi8vY2RuLWxmcy5oZi5jby9yZXBvcy82Ni82Zi82NjZmNDY1ZmE3MDE1ODUxNTQwNGU4ZGUyYzZiYzZmZTJmOTBjNDZmOTI5NjI5M2FhMTRkYWVkZWRlYjMyYzUyL2QwMDg5NDNjMDE3ZjAwOTI5MjExMDY0NDAyNTRkYmJlMDBiNmEyODVmNzg4M2VjOGJhMTYwYzNmYWFkODgzMzQ%7EcmVzcG9uc2UtY29udGVudC1kaXNwb3NpdGlvbj0qIn1dfQ__&Signature=RLEpXt-XZ3pv7QH2qwujch9QMZNuE9913qq5zI9nAs9-yVril1P-HcundbtEul5URLc4FEcIsm3fV8tq5-cybDcuQbSLJxFGwSlCBFF2oaGa46Tet5xEyyGFS%7EbislDLZUDElf9qAFHMBG14Nh8x5eFVhZSOAcuVCwMuLkjds%7Ew0WnNkGvA6tw2Z6hB8d06KfFENSKlVYdjWD9ogHN%7EncfF2QSesL2zdUzEt4OoTydG8PORx2fm07iefg-FAlvMMFpMngmRZojEA2OahLJ1AgFq4T-N%7EuXr7Jx0h%7E2hH4onMxRg9f2Js7bccsk%7E5HavwmNxq1Bkmsxs%7EpzvMDZv2Ug__&Key-Pair-Id=K3RPWS32NSSJCE\n",
            "Resolving cdn-lfs.hf.co (cdn-lfs.hf.co)... 18.155.68.85, 18.155.68.34, 18.155.68.37, ...\n",
            "Connecting to cdn-lfs.hf.co (cdn-lfs.hf.co)|18.155.68.85|:443... connected.\n",
            "HTTP request sent, awaiting response... 200 OK\n",
            "Length: 492265874 (469M) [binary/octet-stream]\n",
            "Saving to: ‘model.safetensors’\n",
            "\n",
            "model.safetensors   100%[===================>] 469.46M   171MB/s    in 2.8s    \n",
            "\n",
            "2024-10-17 14:11:18 (171 MB/s) - ‘model.safetensors’ saved [492265874/492265874]\n",
            "\n",
            "/content/weightsdir\n"
          ]
        }
      ]
    },
    {
      "cell_type": "code",
      "source": [
        "!wget https://huggingface.co/Pbihao/ControlNeXt/resolve/main/ControlNeXt-SD1.5/deepfashion_caption/controlnet.safetensors\n",
        "!wget https://huggingface.co/Pbihao/ControlNeXt/resolve/main/ControlNeXt-SD1.5/deepfashion_caption/unet.safetensors\n",
        "!wget https://huggingface.co/h94/IP-Adapter/resolve/main/models/ip-adapter_sd15.bin\n"
      ],
      "metadata": {
        "colab": {
          "base_uri": "https://localhost:8080/"
        },
        "id": "mhXDPM_PNEfr",
        "outputId": "8129cab9-ae09-4b83-845f-44a56fe00366"
      },
      "execution_count": null,
      "outputs": [
        {
          "output_type": "stream",
          "name": "stdout",
          "text": [
            "--2024-10-17 13:59:20--  https://huggingface.co/Pbihao/ControlNeXt/resolve/main/ControlNeXt-SD1.5/deepfashion_caption/controlnet.safetensors\n",
            "Resolving huggingface.co (huggingface.co)... 13.33.30.49, 13.33.30.76, 13.33.30.23, ...\n",
            "Connecting to huggingface.co (huggingface.co)|13.33.30.49|:443... connected.\n",
            "HTTP request sent, awaiting response... 302 Found\n",
            "Location: https://cdn-lfs-us-1.hf.co/repos/af/4b/af4b0348dd05b3cb8a99661821476663d22a2b6524c46be7b63e21cef4a2cffb/e51c701b489a5d0097577f336282733bb9d07e498aa3f31ebdd00a67df179945?response-content-disposition=inline%3B+filename*%3DUTF-8%27%27controlnet.safetensors%3B+filename%3D%22controlnet.safetensors%22%3B&Expires=1729432760&Policy=eyJTdGF0ZW1lbnQiOlt7IkNvbmRpdGlvbiI6eyJEYXRlTGVzc1RoYW4iOnsiQVdTOkVwb2NoVGltZSI6MTcyOTQzMjc2MH19LCJSZXNvdXJjZSI6Imh0dHBzOi8vY2RuLWxmcy11cy0xLmhmLmNvL3JlcG9zL2FmLzRiL2FmNGIwMzQ4ZGQwNWIzY2I4YTk5NjYxODIxNDc2NjYzZDIyYTJiNjUyNGM0NmJlN2I2M2UyMWNlZjRhMmNmZmIvZTUxYzcwMWI0ODlhNWQwMDk3NTc3ZjMzNjI4MjczM2JiOWQwN2U0OThhYTNmMzFlYmRkMDBhNjdkZjE3OTk0NT9yZXNwb25zZS1jb250ZW50LWRpc3Bvc2l0aW9uPSoifV19&Signature=Jx7PdemNPED257lG3kBWpGQ9brR8Rjm%7EPSRVXpMssIgCptMumq08wzkqu4q1U0TjfR8bbd5Kl3Jo6M3-ghNTB6M1YO03nciuvr%7EWyMyU48cR6nPQvwDh-HEokTBxtAa4Gxptgx5lKJTWgDB99mY07U59y8UxSThwz%7Es2JrmliRm1-wqxFz7xEsRmyJyZ1GK6wrWxhnXgjIzWJXx1FMb7TjofcIXOgHIXTfkEKwfZoJaODKqsc6endyaM%7EMGnXD-KHIrgCUH8fPf0iV8iRPbzK9eQnOA4GKv7k6wT%7EtZZZNRkmcwEAc6Bh4h1-8DFF3O6z-6Er1yMWJTsqBgkX02xMQ__&Key-Pair-Id=K24J24Z295AEI9 [following]\n",
            "--2024-10-17 13:59:20--  https://cdn-lfs-us-1.hf.co/repos/af/4b/af4b0348dd05b3cb8a99661821476663d22a2b6524c46be7b63e21cef4a2cffb/e51c701b489a5d0097577f336282733bb9d07e498aa3f31ebdd00a67df179945?response-content-disposition=inline%3B+filename*%3DUTF-8%27%27controlnet.safetensors%3B+filename%3D%22controlnet.safetensors%22%3B&Expires=1729432760&Policy=eyJTdGF0ZW1lbnQiOlt7IkNvbmRpdGlvbiI6eyJEYXRlTGVzc1RoYW4iOnsiQVdTOkVwb2NoVGltZSI6MTcyOTQzMjc2MH19LCJSZXNvdXJjZSI6Imh0dHBzOi8vY2RuLWxmcy11cy0xLmhmLmNvL3JlcG9zL2FmLzRiL2FmNGIwMzQ4ZGQwNWIzY2I4YTk5NjYxODIxNDc2NjYzZDIyYTJiNjUyNGM0NmJlN2I2M2UyMWNlZjRhMmNmZmIvZTUxYzcwMWI0ODlhNWQwMDk3NTc3ZjMzNjI4MjczM2JiOWQwN2U0OThhYTNmMzFlYmRkMDBhNjdkZjE3OTk0NT9yZXNwb25zZS1jb250ZW50LWRpc3Bvc2l0aW9uPSoifV19&Signature=Jx7PdemNPED257lG3kBWpGQ9brR8Rjm%7EPSRVXpMssIgCptMumq08wzkqu4q1U0TjfR8bbd5Kl3Jo6M3-ghNTB6M1YO03nciuvr%7EWyMyU48cR6nPQvwDh-HEokTBxtAa4Gxptgx5lKJTWgDB99mY07U59y8UxSThwz%7Es2JrmliRm1-wqxFz7xEsRmyJyZ1GK6wrWxhnXgjIzWJXx1FMb7TjofcIXOgHIXTfkEKwfZoJaODKqsc6endyaM%7EMGnXD-KHIrgCUH8fPf0iV8iRPbzK9eQnOA4GKv7k6wT%7EtZZZNRkmcwEAc6Bh4h1-8DFF3O6z-6Er1yMWJTsqBgkX02xMQ__&Key-Pair-Id=K24J24Z295AEI9\n",
            "Resolving cdn-lfs-us-1.hf.co (cdn-lfs-us-1.hf.co)... 18.155.68.65, 18.155.68.69, 18.155.68.50, ...\n",
            "Connecting to cdn-lfs-us-1.hf.co (cdn-lfs-us-1.hf.co)|18.155.68.65|:443... connected.\n",
            "HTTP request sent, awaiting response... 200 OK\n",
            "Length: 21414036 (20M) [binary/octet-stream]\n",
            "Saving to: ‘controlnet.safetensors’\n",
            "\n",
            "controlnet.safetens 100%[===================>]  20.42M  24.3MB/s    in 0.8s    \n",
            "\n",
            "2024-10-17 13:59:21 (24.3 MB/s) - ‘controlnet.safetensors’ saved [21414036/21414036]\n",
            "\n",
            "--2024-10-17 13:59:21--  https://huggingface.co/Pbihao/ControlNeXt/resolve/main/ControlNeXt-SD1.5/deepfashion_caption/unet.safetensors\n",
            "Resolving huggingface.co (huggingface.co)... 13.33.30.23, 13.33.30.49, 13.33.30.114, ...\n",
            "Connecting to huggingface.co (huggingface.co)|13.33.30.23|:443... connected.\n",
            "HTTP request sent, awaiting response... 302 Found\n",
            "Location: https://cdn-lfs-us-1.hf.co/repos/af/4b/af4b0348dd05b3cb8a99661821476663d22a2b6524c46be7b63e21cef4a2cffb/51dd47d9d173fc7ca452b0ed17f0ef52afbaeb2074cb7aed7ae39d84019e0c59?response-content-disposition=inline%3B+filename*%3DUTF-8%27%27unet.safetensors%3B+filename%3D%22unet.safetensors%22%3B&Expires=1729432761&Policy=eyJTdGF0ZW1lbnQiOlt7IkNvbmRpdGlvbiI6eyJEYXRlTGVzc1RoYW4iOnsiQVdTOkVwb2NoVGltZSI6MTcyOTQzMjc2MX19LCJSZXNvdXJjZSI6Imh0dHBzOi8vY2RuLWxmcy11cy0xLmhmLmNvL3JlcG9zL2FmLzRiL2FmNGIwMzQ4ZGQwNWIzY2I4YTk5NjYxODIxNDc2NjYzZDIyYTJiNjUyNGM0NmJlN2I2M2UyMWNlZjRhMmNmZmIvNTFkZDQ3ZDlkMTczZmM3Y2E0NTJiMGVkMTdmMGVmNTJhZmJhZWIyMDc0Y2I3YWVkN2FlMzlkODQwMTllMGM1OT9yZXNwb25zZS1jb250ZW50LWRpc3Bvc2l0aW9uPSoifV19&Signature=Hv2kDD1UYVR-sK7dvq3BEmElsVziDJzoAZXZU-4zI1-421Zs5gkwyPsF4kdDzXDJl1Kszr9ljmtzXaH3mPvpTIcBmJxMwQm-GRG8Sq6OyqQMT34HkraeytXq9NsLMafJIf9tazf8MPsPKZQyui7fP2qHX1bv5b7p2%7E4F7614uruT4f7iGZ2yTnP4sHAUh0vfG4aKAihX7OkLOGb85txacRiEXQ9XP4RyJN9cuHYyHFSigBCVJ5zIO2YwCsX-MJ-EHWqc09w6RmIXb4DtggKZNDHKwET-GaJrllIl0z5nIvvG-fMOkxfx8fCqQxkSQB835lhZSwkwOCZqysqu19fiMg__&Key-Pair-Id=K24J24Z295AEI9 [following]\n",
            "--2024-10-17 13:59:21--  https://cdn-lfs-us-1.hf.co/repos/af/4b/af4b0348dd05b3cb8a99661821476663d22a2b6524c46be7b63e21cef4a2cffb/51dd47d9d173fc7ca452b0ed17f0ef52afbaeb2074cb7aed7ae39d84019e0c59?response-content-disposition=inline%3B+filename*%3DUTF-8%27%27unet.safetensors%3B+filename%3D%22unet.safetensors%22%3B&Expires=1729432761&Policy=eyJTdGF0ZW1lbnQiOlt7IkNvbmRpdGlvbiI6eyJEYXRlTGVzc1RoYW4iOnsiQVdTOkVwb2NoVGltZSI6MTcyOTQzMjc2MX19LCJSZXNvdXJjZSI6Imh0dHBzOi8vY2RuLWxmcy11cy0xLmhmLmNvL3JlcG9zL2FmLzRiL2FmNGIwMzQ4ZGQwNWIzY2I4YTk5NjYxODIxNDc2NjYzZDIyYTJiNjUyNGM0NmJlN2I2M2UyMWNlZjRhMmNmZmIvNTFkZDQ3ZDlkMTczZmM3Y2E0NTJiMGVkMTdmMGVmNTJhZmJhZWIyMDc0Y2I3YWVkN2FlMzlkODQwMTllMGM1OT9yZXNwb25zZS1jb250ZW50LWRpc3Bvc2l0aW9uPSoifV19&Signature=Hv2kDD1UYVR-sK7dvq3BEmElsVziDJzoAZXZU-4zI1-421Zs5gkwyPsF4kdDzXDJl1Kszr9ljmtzXaH3mPvpTIcBmJxMwQm-GRG8Sq6OyqQMT34HkraeytXq9NsLMafJIf9tazf8MPsPKZQyui7fP2qHX1bv5b7p2%7E4F7614uruT4f7iGZ2yTnP4sHAUh0vfG4aKAihX7OkLOGb85txacRiEXQ9XP4RyJN9cuHYyHFSigBCVJ5zIO2YwCsX-MJ-EHWqc09w6RmIXb4DtggKZNDHKwET-GaJrllIl0z5nIvvG-fMOkxfx8fCqQxkSQB835lhZSwkwOCZqysqu19fiMg__&Key-Pair-Id=K24J24Z295AEI9\n",
            "Resolving cdn-lfs-us-1.hf.co (cdn-lfs-us-1.hf.co)... 18.155.68.50, 18.155.68.65, 18.155.68.69, ...\n",
            "Connecting to cdn-lfs-us-1.hf.co (cdn-lfs-us-1.hf.co)|18.155.68.50|:443... connected.\n",
            "HTTP request sent, awaiting response... 200 OK\n",
            "Length: 49620240 (47M) [binary/octet-stream]\n",
            "Saving to: ‘unet.safetensors’\n",
            "\n",
            "unet.safetensors    100%[===================>]  47.32M  23.1MB/s    in 2.0s    \n",
            "\n",
            "2024-10-17 13:59:24 (23.1 MB/s) - ‘unet.safetensors’ saved [49620240/49620240]\n",
            "\n",
            "--2024-10-17 13:59:24--  https://huggingface.co/h94/IP-Adapter/resolve/main/models/ip-adapter_sd15.bin\n",
            "Resolving huggingface.co (huggingface.co)... 13.33.30.23, 13.33.30.49, 13.33.30.114, ...\n",
            "Connecting to huggingface.co (huggingface.co)|13.33.30.23|:443... connected.\n",
            "HTTP request sent, awaiting response... 302 Found\n",
            "Location: https://cdn-lfs.hf.co/repos/6f/e5/6fe5d8840a1ab462e1b9f52fbeabac6bb30febaf56fb5a439f08cca6d1cf4372/68e1df30d760f280e578c302f1e73b37ea08654eff16a31153588047affe0058?response-content-disposition=inline%3B+filename*%3DUTF-8%27%27ip-adapter_sd15.bin%3B+filename%3D%22ip-adapter_sd15.bin%22%3B&response-content-type=application%2Foctet-stream&Expires=1729432740&Policy=eyJTdGF0ZW1lbnQiOlt7IkNvbmRpdGlvbiI6eyJEYXRlTGVzc1RoYW4iOnsiQVdTOkVwb2NoVGltZSI6MTcyOTQzMjc0MH19LCJSZXNvdXJjZSI6Imh0dHBzOi8vY2RuLWxmcy5oZi5jby9yZXBvcy82Zi9lNS82ZmU1ZDg4NDBhMWFiNDYyZTFiOWY1MmZiZWFiYWM2YmIzMGZlYmFmNTZmYjVhNDM5ZjA4Y2NhNmQxY2Y0MzcyLzY4ZTFkZjMwZDc2MGYyODBlNTc4YzMwMmYxZTczYjM3ZWEwODY1NGVmZjE2YTMxMTUzNTg4MDQ3YWZmZTAwNTg%7EcmVzcG9uc2UtY29udGVudC1kaXNwb3NpdGlvbj0qJnJlc3BvbnNlLWNvbnRlbnQtdHlwZT0qIn1dfQ__&Signature=uXOGjK00Wnc8fcLxULekhisTlVtQaWodKPFUxH45-d6g6vmvp7yvkyhrhp7mGrB%7EMHy3tpIVZmKPw4fCN2NaKtiCEJktt5VqPRjQZoNTREV1GWYlQ1M4V9bkTH0EeggGJPR-hEfryU339oyxku-2FBcNVVv67JXE2AFxtOsA4z6BZb82FVZmQrKzah4erbqCk%7EpnFItp3kSIxLo1VR2iVE-CMedZrEIZqCOrLhvvYF8R7mY30hMGveac9efiV58zJ7uHb%7ECrQS%7Ec6GgREcGDWPvAEa5l%7E7GCGzgykyI2zbLIlcLR6t6fj0joSLe6t9-IwFaofR%7EGsrD670YPxpz-cw__&Key-Pair-Id=K3RPWS32NSSJCE [following]\n",
            "--2024-10-17 13:59:24--  https://cdn-lfs.hf.co/repos/6f/e5/6fe5d8840a1ab462e1b9f52fbeabac6bb30febaf56fb5a439f08cca6d1cf4372/68e1df30d760f280e578c302f1e73b37ea08654eff16a31153588047affe0058?response-content-disposition=inline%3B+filename*%3DUTF-8%27%27ip-adapter_sd15.bin%3B+filename%3D%22ip-adapter_sd15.bin%22%3B&response-content-type=application%2Foctet-stream&Expires=1729432740&Policy=eyJTdGF0ZW1lbnQiOlt7IkNvbmRpdGlvbiI6eyJEYXRlTGVzc1RoYW4iOnsiQVdTOkVwb2NoVGltZSI6MTcyOTQzMjc0MH19LCJSZXNvdXJjZSI6Imh0dHBzOi8vY2RuLWxmcy5oZi5jby9yZXBvcy82Zi9lNS82ZmU1ZDg4NDBhMWFiNDYyZTFiOWY1MmZiZWFiYWM2YmIzMGZlYmFmNTZmYjVhNDM5ZjA4Y2NhNmQxY2Y0MzcyLzY4ZTFkZjMwZDc2MGYyODBlNTc4YzMwMmYxZTczYjM3ZWEwODY1NGVmZjE2YTMxMTUzNTg4MDQ3YWZmZTAwNTg%7EcmVzcG9uc2UtY29udGVudC1kaXNwb3NpdGlvbj0qJnJlc3BvbnNlLWNvbnRlbnQtdHlwZT0qIn1dfQ__&Signature=uXOGjK00Wnc8fcLxULekhisTlVtQaWodKPFUxH45-d6g6vmvp7yvkyhrhp7mGrB%7EMHy3tpIVZmKPw4fCN2NaKtiCEJktt5VqPRjQZoNTREV1GWYlQ1M4V9bkTH0EeggGJPR-hEfryU339oyxku-2FBcNVVv67JXE2AFxtOsA4z6BZb82FVZmQrKzah4erbqCk%7EpnFItp3kSIxLo1VR2iVE-CMedZrEIZqCOrLhvvYF8R7mY30hMGveac9efiV58zJ7uHb%7ECrQS%7Ec6GgREcGDWPvAEa5l%7E7GCGzgykyI2zbLIlcLR6t6fj0joSLe6t9-IwFaofR%7EGsrD670YPxpz-cw__&Key-Pair-Id=K3RPWS32NSSJCE\n",
            "Resolving cdn-lfs.hf.co (cdn-lfs.hf.co)... 18.155.68.37, 18.155.68.34, 18.155.68.85, ...\n",
            "Connecting to cdn-lfs.hf.co (cdn-lfs.hf.co)|18.155.68.37|:443... connected.\n",
            "HTTP request sent, awaiting response... 200 OK\n",
            "Length: 44642825 (43M) [application/octet-stream]\n",
            "Saving to: ‘ip-adapter_sd15.bin’\n",
            "\n",
            "ip-adapter_sd15.bin 100%[===================>]  42.57M   151MB/s    in 0.3s    \n",
            "\n",
            "2024-10-17 13:59:24 (151 MB/s) - ‘ip-adapter_sd15.bin’ saved [44642825/44642825]\n",
            "\n"
          ]
        }
      ]
    },
    {
      "cell_type": "code",
      "source": [
        "clip_model_path = os.path.join(weight_dir_path, 'clip_model')\n",
        "os.makedirs(clip_model_path, exist_ok= True)"
      ],
      "metadata": {
        "id": "VcBCDIUbNGS8"
      },
      "execution_count": null,
      "outputs": []
    },
    {
      "cell_type": "code",
      "source": [
        "%cd {clip_model_path}"
      ],
      "metadata": {
        "colab": {
          "base_uri": "https://localhost:8080/"
        },
        "id": "XUS6hrBNNJJZ",
        "outputId": "332b40d4-9d68-49cf-e394-46f2a8d71e12"
      },
      "execution_count": null,
      "outputs": [
        {
          "output_type": "stream",
          "name": "stdout",
          "text": [
            "/content/weightsdir/clip_model\n"
          ]
        }
      ]
    },
    {
      "cell_type": "code",
      "source": [
        "!wget https://huggingface.co/h94/IP-Adapter/resolve/main/models/image_encoder/pytorch_model.bin\n",
        "!wget https://huggingface.co/h94/IP-Adapter/resolve/main/models/image_encoder/config.json\n",
        "!wget https://huggingface.co/h94/IP-Adapter/resolve/main/models/image_encoder/model.safetensors"
      ],
      "metadata": {
        "colab": {
          "base_uri": "https://localhost:8080/"
        },
        "id": "w42giEawNMoN",
        "outputId": "86775a96-11e4-467a-adc1-ffd84ecf40e1"
      },
      "execution_count": null,
      "outputs": [
        {
          "output_type": "stream",
          "name": "stdout",
          "text": [
            "--2024-10-17 13:59:24--  https://huggingface.co/h94/IP-Adapter/resolve/main/models/image_encoder/pytorch_model.bin\n",
            "Resolving huggingface.co (huggingface.co)... 13.33.30.49, 13.33.30.76, 13.33.30.23, ...\n",
            "Connecting to huggingface.co (huggingface.co)|13.33.30.49|:443... connected.\n",
            "HTTP request sent, awaiting response... 302 Found\n",
            "Location: https://cdn-lfs.hf.co/repos/6f/e5/6fe5d8840a1ab462e1b9f52fbeabac6bb30febaf56fb5a439f08cca6d1cf4372/3d3ec1e66737f77a4f3bc2df3c52eacefc69ce7825e2784183b1d4e9877d9193?response-content-disposition=inline%3B+filename*%3DUTF-8%27%27pytorch_model.bin%3B+filename%3D%22pytorch_model.bin%22%3B&response-content-type=application%2Foctet-stream&Expires=1729432764&Policy=eyJTdGF0ZW1lbnQiOlt7IkNvbmRpdGlvbiI6eyJEYXRlTGVzc1RoYW4iOnsiQVdTOkVwb2NoVGltZSI6MTcyOTQzMjc2NH19LCJSZXNvdXJjZSI6Imh0dHBzOi8vY2RuLWxmcy5oZi5jby9yZXBvcy82Zi9lNS82ZmU1ZDg4NDBhMWFiNDYyZTFiOWY1MmZiZWFiYWM2YmIzMGZlYmFmNTZmYjVhNDM5ZjA4Y2NhNmQxY2Y0MzcyLzNkM2VjMWU2NjczN2Y3N2E0ZjNiYzJkZjNjNTJlYWNlZmM2OWNlNzgyNWUyNzg0MTgzYjFkNGU5ODc3ZDkxOTM%7EcmVzcG9uc2UtY29udGVudC1kaXNwb3NpdGlvbj0qJnJlc3BvbnNlLWNvbnRlbnQtdHlwZT0qIn1dfQ__&Signature=SlrMh6J3boKP7fTC3Fif4tcCS15i1FH8JbFJSKaY1%7EAUbhEPiWwfDGluPbdQdZ0uOAkpNQlki2wBnZ6sCUi68xZJkdyRMJp3KDcoZTJlkSQfqfl6ouDykBNACkBSauVRMuvlUAb6AeiNvcsO1QwDtmb%7EgjSTqmbj5pwZrt-sLdraPuSeRNMZ2KnKammVLhrs5TD5F3X8SaHk0A56Mut5IuOIfSDMXTOoCkeVOR6YfEnIW3uTNBDa05l7Vy6FQtaa9LvKCdssOQ%7EYxWc19vuTdNAkxp9yn-krfFVwc%7EzyrqqtSi-QdLgZZvsjvej56ZDFyVshmDjWAoL8HFrEkbMOMA__&Key-Pair-Id=K3RPWS32NSSJCE [following]\n",
            "--2024-10-17 13:59:25--  https://cdn-lfs.hf.co/repos/6f/e5/6fe5d8840a1ab462e1b9f52fbeabac6bb30febaf56fb5a439f08cca6d1cf4372/3d3ec1e66737f77a4f3bc2df3c52eacefc69ce7825e2784183b1d4e9877d9193?response-content-disposition=inline%3B+filename*%3DUTF-8%27%27pytorch_model.bin%3B+filename%3D%22pytorch_model.bin%22%3B&response-content-type=application%2Foctet-stream&Expires=1729432764&Policy=eyJTdGF0ZW1lbnQiOlt7IkNvbmRpdGlvbiI6eyJEYXRlTGVzc1RoYW4iOnsiQVdTOkVwb2NoVGltZSI6MTcyOTQzMjc2NH19LCJSZXNvdXJjZSI6Imh0dHBzOi8vY2RuLWxmcy5oZi5jby9yZXBvcy82Zi9lNS82ZmU1ZDg4NDBhMWFiNDYyZTFiOWY1MmZiZWFiYWM2YmIzMGZlYmFmNTZmYjVhNDM5ZjA4Y2NhNmQxY2Y0MzcyLzNkM2VjMWU2NjczN2Y3N2E0ZjNiYzJkZjNjNTJlYWNlZmM2OWNlNzgyNWUyNzg0MTgzYjFkNGU5ODc3ZDkxOTM%7EcmVzcG9uc2UtY29udGVudC1kaXNwb3NpdGlvbj0qJnJlc3BvbnNlLWNvbnRlbnQtdHlwZT0qIn1dfQ__&Signature=SlrMh6J3boKP7fTC3Fif4tcCS15i1FH8JbFJSKaY1%7EAUbhEPiWwfDGluPbdQdZ0uOAkpNQlki2wBnZ6sCUi68xZJkdyRMJp3KDcoZTJlkSQfqfl6ouDykBNACkBSauVRMuvlUAb6AeiNvcsO1QwDtmb%7EgjSTqmbj5pwZrt-sLdraPuSeRNMZ2KnKammVLhrs5TD5F3X8SaHk0A56Mut5IuOIfSDMXTOoCkeVOR6YfEnIW3uTNBDa05l7Vy6FQtaa9LvKCdssOQ%7EYxWc19vuTdNAkxp9yn-krfFVwc%7EzyrqqtSi-QdLgZZvsjvej56ZDFyVshmDjWAoL8HFrEkbMOMA__&Key-Pair-Id=K3RPWS32NSSJCE\n",
            "Resolving cdn-lfs.hf.co (cdn-lfs.hf.co)... 18.155.68.37, 18.155.68.34, 18.155.68.85, ...\n",
            "Connecting to cdn-lfs.hf.co (cdn-lfs.hf.co)|18.155.68.37|:443... connected.\n",
            "HTTP request sent, awaiting response... 200 OK\n",
            "Length: 2528481905 (2.4G) [application/octet-stream]\n",
            "Saving to: ‘pytorch_model.bin’\n",
            "\n",
            "pytorch_model.bin   100%[===================>]   2.35G   227MB/s    in 13s     \n",
            "\n",
            "2024-10-17 13:59:37 (188 MB/s) - ‘pytorch_model.bin’ saved [2528481905/2528481905]\n",
            "\n",
            "--2024-10-17 13:59:38--  https://huggingface.co/h94/IP-Adapter/resolve/main/models/image_encoder/config.json\n",
            "Resolving huggingface.co (huggingface.co)... 13.33.30.76, 13.33.30.23, 13.33.30.49, ...\n",
            "Connecting to huggingface.co (huggingface.co)|13.33.30.76|:443... connected.\n",
            "HTTP request sent, awaiting response... 200 OK\n",
            "Length: 560 [text/plain]\n",
            "Saving to: ‘config.json’\n",
            "\n",
            "config.json         100%[===================>]     560  --.-KB/s    in 0s      \n",
            "\n",
            "2024-10-17 13:59:38 (254 MB/s) - ‘config.json’ saved [560/560]\n",
            "\n",
            "--2024-10-17 13:59:38--  https://huggingface.co/h94/IP-Adapter/resolve/main/models/image_encoder/model.safetensors\n",
            "Resolving huggingface.co (huggingface.co)... 13.33.30.76, 13.33.30.23, 13.33.30.49, ...\n",
            "Connecting to huggingface.co (huggingface.co)|13.33.30.76|:443... connected.\n",
            "HTTP request sent, awaiting response... 302 Found\n",
            "Location: https://cdn-lfs.hf.co/repos/6f/e5/6fe5d8840a1ab462e1b9f52fbeabac6bb30febaf56fb5a439f08cca6d1cf4372/6ca9667da1ca9e0b0f75e46bb030f7e011f44f86cbfb8d5a36590fcd7507b030?response-content-disposition=inline%3B+filename*%3DUTF-8%27%27model.safetensors%3B+filename%3D%22model.safetensors%22%3B&Expires=1729432778&Policy=eyJTdGF0ZW1lbnQiOlt7IkNvbmRpdGlvbiI6eyJEYXRlTGVzc1RoYW4iOnsiQVdTOkVwb2NoVGltZSI6MTcyOTQzMjc3OH19LCJSZXNvdXJjZSI6Imh0dHBzOi8vY2RuLWxmcy5oZi5jby9yZXBvcy82Zi9lNS82ZmU1ZDg4NDBhMWFiNDYyZTFiOWY1MmZiZWFiYWM2YmIzMGZlYmFmNTZmYjVhNDM5ZjA4Y2NhNmQxY2Y0MzcyLzZjYTk2NjdkYTFjYTllMGIwZjc1ZTQ2YmIwMzBmN2UwMTFmNDRmODZjYmZiOGQ1YTM2NTkwZmNkNzUwN2IwMzA%7EcmVzcG9uc2UtY29udGVudC1kaXNwb3NpdGlvbj0qIn1dfQ__&Signature=YF4oE36xI9JB6UtE3u%7EPjjuNzuJtHRar1qA7r6%7EkhL9zwZwJ8F%7E-AaSrw9g57b90uTGxlJI2CUDvvpLsd%7E39bTduM%7Ejv--0tTSSWveXESH0m-lsjme8eS-IYvMjBT-VKRHuAvapFgDtro5I8uCeB8XrQ9UVHRUkJMaH9PaFADM-SnDe1anfVwX89vRkWT2KFnm9o42mX2ykPQgp8sNiUJ8ZnLYz4q5FhcgKAr89hSCS-u7U5%7E3VGROmmDDyWHPnMhwPZkoIbXtQDvlScoNesmiACxpnSNzK8S6vF2S4epUB6qGZapHiD6QVlMQYK5FgZsKckzlA3lxeEnkKPNMkYyQ__&Key-Pair-Id=K3RPWS32NSSJCE [following]\n",
            "--2024-10-17 13:59:38--  https://cdn-lfs.hf.co/repos/6f/e5/6fe5d8840a1ab462e1b9f52fbeabac6bb30febaf56fb5a439f08cca6d1cf4372/6ca9667da1ca9e0b0f75e46bb030f7e011f44f86cbfb8d5a36590fcd7507b030?response-content-disposition=inline%3B+filename*%3DUTF-8%27%27model.safetensors%3B+filename%3D%22model.safetensors%22%3B&Expires=1729432778&Policy=eyJTdGF0ZW1lbnQiOlt7IkNvbmRpdGlvbiI6eyJEYXRlTGVzc1RoYW4iOnsiQVdTOkVwb2NoVGltZSI6MTcyOTQzMjc3OH19LCJSZXNvdXJjZSI6Imh0dHBzOi8vY2RuLWxmcy5oZi5jby9yZXBvcy82Zi9lNS82ZmU1ZDg4NDBhMWFiNDYyZTFiOWY1MmZiZWFiYWM2YmIzMGZlYmFmNTZmYjVhNDM5ZjA4Y2NhNmQxY2Y0MzcyLzZjYTk2NjdkYTFjYTllMGIwZjc1ZTQ2YmIwMzBmN2UwMTFmNDRmODZjYmZiOGQ1YTM2NTkwZmNkNzUwN2IwMzA%7EcmVzcG9uc2UtY29udGVudC1kaXNwb3NpdGlvbj0qIn1dfQ__&Signature=YF4oE36xI9JB6UtE3u%7EPjjuNzuJtHRar1qA7r6%7EkhL9zwZwJ8F%7E-AaSrw9g57b90uTGxlJI2CUDvvpLsd%7E39bTduM%7Ejv--0tTSSWveXESH0m-lsjme8eS-IYvMjBT-VKRHuAvapFgDtro5I8uCeB8XrQ9UVHRUkJMaH9PaFADM-SnDe1anfVwX89vRkWT2KFnm9o42mX2ykPQgp8sNiUJ8ZnLYz4q5FhcgKAr89hSCS-u7U5%7E3VGROmmDDyWHPnMhwPZkoIbXtQDvlScoNesmiACxpnSNzK8S6vF2S4epUB6qGZapHiD6QVlMQYK5FgZsKckzlA3lxeEnkKPNMkYyQ__&Key-Pair-Id=K3RPWS32NSSJCE\n",
            "Resolving cdn-lfs.hf.co (cdn-lfs.hf.co)... 18.155.68.37, 18.155.68.34, 18.155.68.85, ...\n",
            "Connecting to cdn-lfs.hf.co (cdn-lfs.hf.co)|18.155.68.37|:443... connected.\n",
            "HTTP request sent, awaiting response... 200 OK\n",
            "Length: 2528373448 (2.4G) [binary/octet-stream]\n",
            "Saving to: ‘model.safetensors’\n",
            "\n",
            "model.safetensors   100%[===================>]   2.35G   218MB/s    in 13s     \n",
            "\n",
            "2024-10-17 13:59:51 (188 MB/s) - ‘model.safetensors’ saved [2528373448/2528373448]\n",
            "\n"
          ]
        }
      ]
    },
    {
      "cell_type": "code",
      "source": [
        "%cd ..\n",
        "!mkdir unet\n",
        "\n"
      ],
      "metadata": {
        "colab": {
          "base_uri": "https://localhost:8080/"
        },
        "id": "lVi_ukIaNPjD",
        "outputId": "548427f0-ddff-4550-f448-c47cbcc9590d"
      },
      "execution_count": null,
      "outputs": [
        {
          "output_type": "stream",
          "name": "stdout",
          "text": [
            "/content/weightsdir\n"
          ]
        }
      ]
    },
    {
      "cell_type": "code",
      "source": [
        "%cd unet\n",
        "!wget https://huggingface.co/SG161222/Realistic_Vision_V5.1_noVAE/resolve/main/unet/diffusion_pytorch_model.safetensors\n",
        "!wget https://huggingface.co/SG161222/Realistic_Vision_V5.1_noVAE/resolve/main/unet/config.json"
      ],
      "metadata": {
        "colab": {
          "base_uri": "https://localhost:8080/"
        },
        "id": "yGYh7SqZNR8x",
        "outputId": "f0bde977-5db0-480a-a8a2-1c0852839909"
      },
      "execution_count": null,
      "outputs": [
        {
          "output_type": "stream",
          "name": "stdout",
          "text": [
            "/content/weightsdir/unet\n",
            "--2024-10-17 14:00:04--  https://huggingface.co/SG161222/Realistic_Vision_V5.1_noVAE/resolve/main/unet/diffusion_pytorch_model.safetensors\n",
            "Resolving huggingface.co (huggingface.co)... 13.33.30.76, 13.33.30.23, 13.33.30.49, ...\n",
            "Connecting to huggingface.co (huggingface.co)|13.33.30.76|:443... connected.\n",
            "HTTP request sent, awaiting response... 302 Found\n",
            "Location: https://cdn-lfs.hf.co/repos/1b/69/1b6974b6c8719204a164a44e95467437e9938d2befec5a0818193dc63251064e/4e0868e8fcae7d4ea8f8cdd3051704b3b47d741dc8e8629552d1a07f6efb8e32?response-content-disposition=inline%3B+filename*%3DUTF-8%27%27diffusion_pytorch_model.safetensors%3B+filename%3D%22diffusion_pytorch_model.safetensors%22%3B&Expires=1729430306&Policy=eyJTdGF0ZW1lbnQiOlt7IkNvbmRpdGlvbiI6eyJEYXRlTGVzc1RoYW4iOnsiQVdTOkVwb2NoVGltZSI6MTcyOTQzMDMwNn19LCJSZXNvdXJjZSI6Imh0dHBzOi8vY2RuLWxmcy5oZi5jby9yZXBvcy8xYi82OS8xYjY5NzRiNmM4NzE5MjA0YTE2NGE0NGU5NTQ2NzQzN2U5OTM4ZDJiZWZlYzVhMDgxODE5M2RjNjMyNTEwNjRlLzRlMDg2OGU4ZmNhZTdkNGVhOGY4Y2RkMzA1MTcwNGIzYjQ3ZDc0MWRjOGU4NjI5NTUyZDFhMDdmNmVmYjhlMzI%7EcmVzcG9uc2UtY29udGVudC1kaXNwb3NpdGlvbj0qIn1dfQ__&Signature=FkI3ljIBXaSWLWJz0VWtVUwQpe8wH%7EWGTDRqaFPtKQgXAjfhuypv9Wkb74zd7gQFtnTVQdtrWZKa3sDL9T8GixbZ%7EH1n6yFeyWcPbAvk1K1w-OONj4nilqVYWCV1AxsKwUVZgcknifpJ-N2lwlO2sOvbn0liCtmP3q%7EeHwJ2Gaq%7E%7EUcQW0u4FoDWuExyKtpEfGhk0WTCbYsvaNfehSUCr2ERqFiYJhtykQ4mZx2TxQdFQyzh%7EhI981Xd5Z7QQ3i4gISRHdj-9aC40B6BvvTjEBDMDNh38VMk%7EE2gGtngHzhRht8wpxWe1-XuhDTF8CQ0tUeo%7E285ZNrIPTLjLFxzoA__&Key-Pair-Id=K3RPWS32NSSJCE [following]\n",
            "--2024-10-17 14:00:05--  https://cdn-lfs.hf.co/repos/1b/69/1b6974b6c8719204a164a44e95467437e9938d2befec5a0818193dc63251064e/4e0868e8fcae7d4ea8f8cdd3051704b3b47d741dc8e8629552d1a07f6efb8e32?response-content-disposition=inline%3B+filename*%3DUTF-8%27%27diffusion_pytorch_model.safetensors%3B+filename%3D%22diffusion_pytorch_model.safetensors%22%3B&Expires=1729430306&Policy=eyJTdGF0ZW1lbnQiOlt7IkNvbmRpdGlvbiI6eyJEYXRlTGVzc1RoYW4iOnsiQVdTOkVwb2NoVGltZSI6MTcyOTQzMDMwNn19LCJSZXNvdXJjZSI6Imh0dHBzOi8vY2RuLWxmcy5oZi5jby9yZXBvcy8xYi82OS8xYjY5NzRiNmM4NzE5MjA0YTE2NGE0NGU5NTQ2NzQzN2U5OTM4ZDJiZWZlYzVhMDgxODE5M2RjNjMyNTEwNjRlLzRlMDg2OGU4ZmNhZTdkNGVhOGY4Y2RkMzA1MTcwNGIzYjQ3ZDc0MWRjOGU4NjI5NTUyZDFhMDdmNmVmYjhlMzI%7EcmVzcG9uc2UtY29udGVudC1kaXNwb3NpdGlvbj0qIn1dfQ__&Signature=FkI3ljIBXaSWLWJz0VWtVUwQpe8wH%7EWGTDRqaFPtKQgXAjfhuypv9Wkb74zd7gQFtnTVQdtrWZKa3sDL9T8GixbZ%7EH1n6yFeyWcPbAvk1K1w-OONj4nilqVYWCV1AxsKwUVZgcknifpJ-N2lwlO2sOvbn0liCtmP3q%7EeHwJ2Gaq%7E%7EUcQW0u4FoDWuExyKtpEfGhk0WTCbYsvaNfehSUCr2ERqFiYJhtykQ4mZx2TxQdFQyzh%7EhI981Xd5Z7QQ3i4gISRHdj-9aC40B6BvvTjEBDMDNh38VMk%7EE2gGtngHzhRht8wpxWe1-XuhDTF8CQ0tUeo%7E285ZNrIPTLjLFxzoA__&Key-Pair-Id=K3RPWS32NSSJCE\n",
            "Resolving cdn-lfs.hf.co (cdn-lfs.hf.co)... 18.155.68.37, 18.155.68.34, 18.155.68.85, ...\n",
            "Connecting to cdn-lfs.hf.co (cdn-lfs.hf.co)|18.155.68.37|:443... connected.\n",
            "HTTP request sent, awaiting response... 200 OK\n",
            "Length: 3438167536 (3.2G) [binary/octet-stream]\n",
            "Saving to: ‘diffusion_pytorch_model.safetensors’\n",
            "\n",
            "diffusion_pytorch_m 100%[===================>]   3.20G  24.3MB/s    in 2m 30s  \n",
            "\n",
            "2024-10-17 14:02:35 (21.9 MB/s) - ‘diffusion_pytorch_model.safetensors’ saved [3438167536/3438167536]\n",
            "\n",
            "--2024-10-17 14:02:35--  https://huggingface.co/SG161222/Realistic_Vision_V5.1_noVAE/resolve/main/unet/config.json\n",
            "Resolving huggingface.co (huggingface.co)... 13.33.30.23, 13.33.30.49, 13.33.30.76, ...\n",
            "Connecting to huggingface.co (huggingface.co)|13.33.30.23|:443... connected.\n",
            "HTTP request sent, awaiting response... 200 OK\n",
            "Length: 1547 (1.5K) [text/plain]\n",
            "Saving to: ‘config.json’\n",
            "\n",
            "config.json         100%[===================>]   1.51K  --.-KB/s    in 0s      \n",
            "\n",
            "2024-10-17 14:02:36 (886 MB/s) - ‘config.json’ saved [1547/1547]\n",
            "\n"
          ]
        }
      ]
    },
    {
      "cell_type": "code",
      "source": [
        "!mkdir /content/dataset"
      ],
      "metadata": {
        "id": "0OpMXtJ4Nf3W"
      },
      "execution_count": null,
      "outputs": []
    },
    {
      "cell_type": "code",
      "source": [
        "!python /content/drive/MyDrive/MyDrive/D2T/train_controlnext/controlnext_training/trash.py"
      ],
      "metadata": {
        "colab": {
          "base_uri": "https://localhost:8080/"
        },
        "id": "wfb24bJ5Oets",
        "outputId": "d0732900-d9b5-4565-e14c-e0f146b6d1b3"
      },
      "execution_count": null,
      "outputs": [
        {
          "output_type": "stream",
          "name": "stdout",
          "text": [
            "File CSV đã được tạo thành công: /content/dataset/data.csv\n"
          ]
        }
      ]
    },
    {
      "cell_type": "code",
      "source": [
        "!pip install diffusers\n",
        "!pip install ip_adapter\n",
        "!pip install accelerate\n",
        "!pip install datasets\n"
      ],
      "metadata": {
        "colab": {
          "base_uri": "https://localhost:8080/"
        },
        "collapsed": true,
        "id": "9yzXZUUSOw2P",
        "outputId": "ffbc8a95-4de9-42c2-ebee-11ac7059bef0"
      },
      "execution_count": null,
      "outputs": [
        {
          "output_type": "stream",
          "name": "stdout",
          "text": [
            "Collecting diffusers\n",
            "  Downloading diffusers-0.30.3-py3-none-any.whl.metadata (18 kB)\n",
            "Requirement already satisfied: importlib-metadata in /usr/local/lib/python3.10/dist-packages (from diffusers) (8.5.0)\n",
            "Requirement already satisfied: filelock in /usr/local/lib/python3.10/dist-packages (from diffusers) (3.16.1)\n",
            "Requirement already satisfied: huggingface-hub>=0.23.2 in /usr/local/lib/python3.10/dist-packages (from diffusers) (0.24.7)\n",
            "Requirement already satisfied: numpy in /usr/local/lib/python3.10/dist-packages (from diffusers) (1.26.4)\n",
            "Requirement already satisfied: regex!=2019.12.17 in /usr/local/lib/python3.10/dist-packages (from diffusers) (2024.9.11)\n",
            "Requirement already satisfied: requests in /usr/local/lib/python3.10/dist-packages (from diffusers) (2.32.3)\n",
            "Requirement already satisfied: safetensors>=0.3.1 in /usr/local/lib/python3.10/dist-packages (from diffusers) (0.4.5)\n",
            "Requirement already satisfied: Pillow in /usr/local/lib/python3.10/dist-packages (from diffusers) (10.4.0)\n",
            "Requirement already satisfied: fsspec>=2023.5.0 in /usr/local/lib/python3.10/dist-packages (from huggingface-hub>=0.23.2->diffusers) (2024.6.1)\n",
            "Requirement already satisfied: packaging>=20.9 in /usr/local/lib/python3.10/dist-packages (from huggingface-hub>=0.23.2->diffusers) (24.1)\n",
            "Requirement already satisfied: pyyaml>=5.1 in /usr/local/lib/python3.10/dist-packages (from huggingface-hub>=0.23.2->diffusers) (6.0.2)\n",
            "Requirement already satisfied: tqdm>=4.42.1 in /usr/local/lib/python3.10/dist-packages (from huggingface-hub>=0.23.2->diffusers) (4.66.5)\n",
            "Requirement already satisfied: typing-extensions>=3.7.4.3 in /usr/local/lib/python3.10/dist-packages (from huggingface-hub>=0.23.2->diffusers) (4.12.2)\n",
            "Requirement already satisfied: zipp>=3.20 in /usr/local/lib/python3.10/dist-packages (from importlib-metadata->diffusers) (3.20.2)\n",
            "Requirement already satisfied: charset-normalizer<4,>=2 in /usr/local/lib/python3.10/dist-packages (from requests->diffusers) (3.4.0)\n",
            "Requirement already satisfied: idna<4,>=2.5 in /usr/local/lib/python3.10/dist-packages (from requests->diffusers) (3.10)\n",
            "Requirement already satisfied: urllib3<3,>=1.21.1 in /usr/local/lib/python3.10/dist-packages (from requests->diffusers) (2.2.3)\n",
            "Requirement already satisfied: certifi>=2017.4.17 in /usr/local/lib/python3.10/dist-packages (from requests->diffusers) (2024.8.30)\n",
            "Downloading diffusers-0.30.3-py3-none-any.whl (2.7 MB)\n",
            "\u001b[2K   \u001b[90m━━━━━━━━━━━━━━━━━━━━━━━━━━━━━━━━━━━━━━━━\u001b[0m \u001b[32m2.7/2.7 MB\u001b[0m \u001b[31m80.7 MB/s\u001b[0m eta \u001b[36m0:00:00\u001b[0m\n",
            "\u001b[?25hInstalling collected packages: diffusers\n",
            "Successfully installed diffusers-0.30.3\n",
            "Collecting ip_adapter\n",
            "  Downloading ip_adapter-0.1.0-py3-none-any.whl.metadata (11 kB)\n",
            "Downloading ip_adapter-0.1.0-py3-none-any.whl (25 kB)\n",
            "Installing collected packages: ip_adapter\n",
            "Successfully installed ip_adapter-0.1.0\n",
            "Requirement already satisfied: accelerate in /usr/local/lib/python3.10/dist-packages (0.34.2)\n",
            "Requirement already satisfied: numpy<3.0.0,>=1.17 in /usr/local/lib/python3.10/dist-packages (from accelerate) (1.26.4)\n",
            "Requirement already satisfied: packaging>=20.0 in /usr/local/lib/python3.10/dist-packages (from accelerate) (24.1)\n",
            "Requirement already satisfied: psutil in /usr/local/lib/python3.10/dist-packages (from accelerate) (5.9.5)\n",
            "Requirement already satisfied: pyyaml in /usr/local/lib/python3.10/dist-packages (from accelerate) (6.0.2)\n",
            "Requirement already satisfied: torch>=1.10.0 in /usr/local/lib/python3.10/dist-packages (from accelerate) (2.4.1+cu121)\n",
            "Requirement already satisfied: huggingface-hub>=0.21.0 in /usr/local/lib/python3.10/dist-packages (from accelerate) (0.24.7)\n",
            "Requirement already satisfied: safetensors>=0.4.3 in /usr/local/lib/python3.10/dist-packages (from accelerate) (0.4.5)\n",
            "Requirement already satisfied: filelock in /usr/local/lib/python3.10/dist-packages (from huggingface-hub>=0.21.0->accelerate) (3.16.1)\n",
            "Requirement already satisfied: fsspec>=2023.5.0 in /usr/local/lib/python3.10/dist-packages (from huggingface-hub>=0.21.0->accelerate) (2024.6.1)\n",
            "Requirement already satisfied: requests in /usr/local/lib/python3.10/dist-packages (from huggingface-hub>=0.21.0->accelerate) (2.32.3)\n",
            "Requirement already satisfied: tqdm>=4.42.1 in /usr/local/lib/python3.10/dist-packages (from huggingface-hub>=0.21.0->accelerate) (4.66.5)\n",
            "Requirement already satisfied: typing-extensions>=3.7.4.3 in /usr/local/lib/python3.10/dist-packages (from huggingface-hub>=0.21.0->accelerate) (4.12.2)\n",
            "Requirement already satisfied: sympy in /usr/local/lib/python3.10/dist-packages (from torch>=1.10.0->accelerate) (1.13.3)\n",
            "Requirement already satisfied: networkx in /usr/local/lib/python3.10/dist-packages (from torch>=1.10.0->accelerate) (3.4)\n",
            "Requirement already satisfied: jinja2 in /usr/local/lib/python3.10/dist-packages (from torch>=1.10.0->accelerate) (3.1.4)\n",
            "Requirement already satisfied: MarkupSafe>=2.0 in /usr/local/lib/python3.10/dist-packages (from jinja2->torch>=1.10.0->accelerate) (3.0.1)\n",
            "Requirement already satisfied: charset-normalizer<4,>=2 in /usr/local/lib/python3.10/dist-packages (from requests->huggingface-hub>=0.21.0->accelerate) (3.4.0)\n",
            "Requirement already satisfied: idna<4,>=2.5 in /usr/local/lib/python3.10/dist-packages (from requests->huggingface-hub>=0.21.0->accelerate) (3.10)\n",
            "Requirement already satisfied: urllib3<3,>=1.21.1 in /usr/local/lib/python3.10/dist-packages (from requests->huggingface-hub>=0.21.0->accelerate) (2.2.3)\n",
            "Requirement already satisfied: certifi>=2017.4.17 in /usr/local/lib/python3.10/dist-packages (from requests->huggingface-hub>=0.21.0->accelerate) (2024.8.30)\n",
            "Requirement already satisfied: mpmath<1.4,>=1.1.0 in /usr/local/lib/python3.10/dist-packages (from sympy->torch>=1.10.0->accelerate) (1.3.0)\n",
            "Collecting datasets\n",
            "  Downloading datasets-3.0.1-py3-none-any.whl.metadata (20 kB)\n",
            "Requirement already satisfied: filelock in /usr/local/lib/python3.10/dist-packages (from datasets) (3.16.1)\n",
            "Requirement already satisfied: numpy>=1.17 in /usr/local/lib/python3.10/dist-packages (from datasets) (1.26.4)\n",
            "Requirement already satisfied: pyarrow>=15.0.0 in /usr/local/lib/python3.10/dist-packages (from datasets) (16.1.0)\n",
            "Collecting dill<0.3.9,>=0.3.0 (from datasets)\n",
            "  Downloading dill-0.3.8-py3-none-any.whl.metadata (10 kB)\n",
            "Requirement already satisfied: pandas in /usr/local/lib/python3.10/dist-packages (from datasets) (2.2.2)\n",
            "Requirement already satisfied: requests>=2.32.2 in /usr/local/lib/python3.10/dist-packages (from datasets) (2.32.3)\n",
            "Requirement already satisfied: tqdm>=4.66.3 in /usr/local/lib/python3.10/dist-packages (from datasets) (4.66.5)\n",
            "Collecting xxhash (from datasets)\n",
            "  Downloading xxhash-3.5.0-cp310-cp310-manylinux_2_17_x86_64.manylinux2014_x86_64.whl.metadata (12 kB)\n",
            "Collecting multiprocess (from datasets)\n",
            "  Downloading multiprocess-0.70.17-py310-none-any.whl.metadata (7.2 kB)\n",
            "Requirement already satisfied: fsspec<=2024.6.1,>=2023.1.0 in /usr/local/lib/python3.10/dist-packages (from fsspec[http]<=2024.6.1,>=2023.1.0->datasets) (2024.6.1)\n",
            "Requirement already satisfied: aiohttp in /usr/local/lib/python3.10/dist-packages (from datasets) (3.10.10)\n",
            "Requirement already satisfied: huggingface-hub>=0.22.0 in /usr/local/lib/python3.10/dist-packages (from datasets) (0.24.7)\n",
            "Requirement already satisfied: packaging in /usr/local/lib/python3.10/dist-packages (from datasets) (24.1)\n",
            "Requirement already satisfied: pyyaml>=5.1 in /usr/local/lib/python3.10/dist-packages (from datasets) (6.0.2)\n",
            "Requirement already satisfied: aiohappyeyeballs>=2.3.0 in /usr/local/lib/python3.10/dist-packages (from aiohttp->datasets) (2.4.3)\n",
            "Requirement already satisfied: aiosignal>=1.1.2 in /usr/local/lib/python3.10/dist-packages (from aiohttp->datasets) (1.3.1)\n",
            "Requirement already satisfied: attrs>=17.3.0 in /usr/local/lib/python3.10/dist-packages (from aiohttp->datasets) (24.2.0)\n",
            "Requirement already satisfied: frozenlist>=1.1.1 in /usr/local/lib/python3.10/dist-packages (from aiohttp->datasets) (1.4.1)\n",
            "Requirement already satisfied: multidict<7.0,>=4.5 in /usr/local/lib/python3.10/dist-packages (from aiohttp->datasets) (6.1.0)\n",
            "Requirement already satisfied: yarl<2.0,>=1.12.0 in /usr/local/lib/python3.10/dist-packages (from aiohttp->datasets) (1.14.0)\n",
            "Requirement already satisfied: async-timeout<5.0,>=4.0 in /usr/local/lib/python3.10/dist-packages (from aiohttp->datasets) (4.0.3)\n",
            "Requirement already satisfied: typing-extensions>=3.7.4.3 in /usr/local/lib/python3.10/dist-packages (from huggingface-hub>=0.22.0->datasets) (4.12.2)\n",
            "Requirement already satisfied: charset-normalizer<4,>=2 in /usr/local/lib/python3.10/dist-packages (from requests>=2.32.2->datasets) (3.4.0)\n",
            "Requirement already satisfied: idna<4,>=2.5 in /usr/local/lib/python3.10/dist-packages (from requests>=2.32.2->datasets) (3.10)\n",
            "Requirement already satisfied: urllib3<3,>=1.21.1 in /usr/local/lib/python3.10/dist-packages (from requests>=2.32.2->datasets) (2.2.3)\n",
            "Requirement already satisfied: certifi>=2017.4.17 in /usr/local/lib/python3.10/dist-packages (from requests>=2.32.2->datasets) (2024.8.30)\n",
            "INFO: pip is looking at multiple versions of multiprocess to determine which version is compatible with other requirements. This could take a while.\n",
            "  Downloading multiprocess-0.70.16-py310-none-any.whl.metadata (7.2 kB)\n",
            "Requirement already satisfied: python-dateutil>=2.8.2 in /usr/local/lib/python3.10/dist-packages (from pandas->datasets) (2.8.2)\n",
            "Requirement already satisfied: pytz>=2020.1 in /usr/local/lib/python3.10/dist-packages (from pandas->datasets) (2024.2)\n",
            "Requirement already satisfied: tzdata>=2022.7 in /usr/local/lib/python3.10/dist-packages (from pandas->datasets) (2024.2)\n",
            "Requirement already satisfied: six>=1.5 in /usr/local/lib/python3.10/dist-packages (from python-dateutil>=2.8.2->pandas->datasets) (1.16.0)\n",
            "Requirement already satisfied: propcache>=0.2.0 in /usr/local/lib/python3.10/dist-packages (from yarl<2.0,>=1.12.0->aiohttp->datasets) (0.2.0)\n",
            "Downloading datasets-3.0.1-py3-none-any.whl (471 kB)\n",
            "\u001b[2K   \u001b[90m━━━━━━━━━━━━━━━━━━━━━━━━━━━━━━━━━━━━━━━━\u001b[0m \u001b[32m471.6/471.6 kB\u001b[0m \u001b[31m30.2 MB/s\u001b[0m eta \u001b[36m0:00:00\u001b[0m\n",
            "\u001b[?25hDownloading dill-0.3.8-py3-none-any.whl (116 kB)\n",
            "\u001b[2K   \u001b[90m━━━━━━━━━━━━━━━━━━━━━━━━━━━━━━━━━━━━━━━━\u001b[0m \u001b[32m116.3/116.3 kB\u001b[0m \u001b[31m11.8 MB/s\u001b[0m eta \u001b[36m0:00:00\u001b[0m\n",
            "\u001b[?25hDownloading multiprocess-0.70.16-py310-none-any.whl (134 kB)\n",
            "\u001b[2K   \u001b[90m━━━━━━━━━━━━━━━━━━━━━━━━━━━━━━━━━━━━━━━━\u001b[0m \u001b[32m134.8/134.8 kB\u001b[0m \u001b[31m13.2 MB/s\u001b[0m eta \u001b[36m0:00:00\u001b[0m\n",
            "\u001b[?25hDownloading xxhash-3.5.0-cp310-cp310-manylinux_2_17_x86_64.manylinux2014_x86_64.whl (194 kB)\n",
            "\u001b[2K   \u001b[90m━━━━━━━━━━━━━━━━━━━━━━━━━━━━━━━━━━━━━━━━\u001b[0m \u001b[32m194.1/194.1 kB\u001b[0m \u001b[31m17.1 MB/s\u001b[0m eta \u001b[36m0:00:00\u001b[0m\n",
            "\u001b[?25hInstalling collected packages: xxhash, dill, multiprocess, datasets\n",
            "Successfully installed datasets-3.0.1 dill-0.3.8 multiprocess-0.70.16 xxhash-3.5.0\n"
          ]
        }
      ]
    },
    {
      "cell_type": "code",
      "source": [
        "!pip install onnxruntime\n",
        "!pip install onnx"
      ],
      "metadata": {
        "colab": {
          "base_uri": "https://localhost:8080/"
        },
        "id": "avgeZBSkQyuU",
        "outputId": "8bedadcd-537e-4b71-8001-7c2c2426f25e"
      },
      "execution_count": null,
      "outputs": [
        {
          "output_type": "stream",
          "name": "stdout",
          "text": [
            "Collecting onnxruntime\n",
            "  Downloading onnxruntime-1.19.2-cp310-cp310-manylinux_2_27_x86_64.manylinux_2_28_x86_64.whl.metadata (4.5 kB)\n",
            "Collecting coloredlogs (from onnxruntime)\n",
            "  Downloading coloredlogs-15.0.1-py2.py3-none-any.whl.metadata (12 kB)\n",
            "Requirement already satisfied: flatbuffers in /usr/local/lib/python3.10/dist-packages (from onnxruntime) (24.3.25)\n",
            "Requirement already satisfied: numpy>=1.21.6 in /usr/local/lib/python3.10/dist-packages (from onnxruntime) (1.26.4)\n",
            "Requirement already satisfied: packaging in /usr/local/lib/python3.10/dist-packages (from onnxruntime) (24.1)\n",
            "Requirement already satisfied: protobuf in /usr/local/lib/python3.10/dist-packages (from onnxruntime) (3.20.3)\n",
            "Requirement already satisfied: sympy in /usr/local/lib/python3.10/dist-packages (from onnxruntime) (1.13.3)\n",
            "Collecting humanfriendly>=9.1 (from coloredlogs->onnxruntime)\n",
            "  Downloading humanfriendly-10.0-py2.py3-none-any.whl.metadata (9.2 kB)\n",
            "Requirement already satisfied: mpmath<1.4,>=1.1.0 in /usr/local/lib/python3.10/dist-packages (from sympy->onnxruntime) (1.3.0)\n",
            "Downloading onnxruntime-1.19.2-cp310-cp310-manylinux_2_27_x86_64.manylinux_2_28_x86_64.whl (13.2 MB)\n",
            "\u001b[2K   \u001b[90m━━━━━━━━━━━━━━━━━━━━━━━━━━━━━━━━━━━━━━━━\u001b[0m \u001b[32m13.2/13.2 MB\u001b[0m \u001b[31m94.2 MB/s\u001b[0m eta \u001b[36m0:00:00\u001b[0m\n",
            "\u001b[?25hDownloading coloredlogs-15.0.1-py2.py3-none-any.whl (46 kB)\n",
            "\u001b[2K   \u001b[90m━━━━━━━━━━━━━━━━━━━━━━━━━━━━━━━━━━━━━━━━\u001b[0m \u001b[32m46.0/46.0 kB\u001b[0m \u001b[31m3.8 MB/s\u001b[0m eta \u001b[36m0:00:00\u001b[0m\n",
            "\u001b[?25hDownloading humanfriendly-10.0-py2.py3-none-any.whl (86 kB)\n",
            "\u001b[2K   \u001b[90m━━━━━━━━━━━━━━━━━━━━━━━━━━━━━━━━━━━━━━━━\u001b[0m \u001b[32m86.8/86.8 kB\u001b[0m \u001b[31m8.6 MB/s\u001b[0m eta \u001b[36m0:00:00\u001b[0m\n",
            "\u001b[?25hInstalling collected packages: humanfriendly, coloredlogs, onnxruntime\n",
            "Successfully installed coloredlogs-15.0.1 humanfriendly-10.0 onnxruntime-1.19.2\n",
            "Collecting onnx\n",
            "  Downloading onnx-1.17.0-cp310-cp310-manylinux_2_17_x86_64.manylinux2014_x86_64.whl.metadata (16 kB)\n",
            "Requirement already satisfied: numpy>=1.20 in /usr/local/lib/python3.10/dist-packages (from onnx) (1.26.4)\n",
            "Requirement already satisfied: protobuf>=3.20.2 in /usr/local/lib/python3.10/dist-packages (from onnx) (3.20.3)\n",
            "Downloading onnx-1.17.0-cp310-cp310-manylinux_2_17_x86_64.manylinux2014_x86_64.whl (16.0 MB)\n",
            "\u001b[2K   \u001b[90m━━━━━━━━━━━━━━━━━━━━━━━━━━━━━━━━━━━━━━━━\u001b[0m \u001b[32m16.0/16.0 MB\u001b[0m \u001b[31m86.6 MB/s\u001b[0m eta \u001b[36m0:00:00\u001b[0m\n",
            "\u001b[?25hInstalling collected packages: onnx\n",
            "Successfully installed onnx-1.17.0\n"
          ]
        }
      ]
    },
    {
      "cell_type": "code",
      "source": [
        "!mkdir /content/save_weight"
      ],
      "metadata": {
        "id": "LLp3tssmPGBS"
      },
      "execution_count": null,
      "outputs": []
    },
    {
      "cell_type": "code",
      "source": [
        "# %cd /content/drive/MyDrive/D2T/train_controlnext/controlnext_training\n",
        "# !bash /content/drive/MyDrive/D2T/train_controlnext/controlnext_training/scripts.sh"
      ],
      "metadata": {
        "colab": {
          "base_uri": "https://localhost:8080/"
        },
        "id": "MgJIkYYPP3Xf",
        "outputId": "2c229dc5-a833-4ca4-a9b8-6b72f7f4b47f"
      },
      "execution_count": null,
      "outputs": [
        {
          "output_type": "stream",
          "name": "stdout",
          "text": [
            "/content/drive/.shortcut-targets-by-id/1LXBeZiikew2FOH4LsCpzF_5fGdV5TxTg/D2T/train_controlnext/controlnext_training\n",
            "The following values were not passed to `accelerate launch` and had defaults used instead:\n",
            "\t`--num_processes` was set to a value of `1`\n",
            "\t`--num_machines` was set to a value of `1`\n",
            "\t`--mixed_precision` was set to a value of `'no'`\n",
            "\t`--dynamo_backend` was set to a value of `'no'`\n",
            "To avoid this warning pass in values for each of the problematic parameters or run `accelerate config`.\n",
            "2024-10-17 15:01:29.868607: E external/local_xla/xla/stream_executor/cuda/cuda_fft.cc:485] Unable to register cuFFT factory: Attempting to register factory for plugin cuFFT when one has already been registered\n",
            "2024-10-17 15:01:29.902488: E external/local_xla/xla/stream_executor/cuda/cuda_dnn.cc:8454] Unable to register cuDNN factory: Attempting to register factory for plugin cuDNN when one has already been registered\n",
            "2024-10-17 15:01:29.912792: E external/local_xla/xla/stream_executor/cuda/cuda_blas.cc:1452] Unable to register cuBLAS factory: Attempting to register factory for plugin cuBLAS when one has already been registered\n",
            "2024-10-17 15:01:29.939435: I tensorflow/core/platform/cpu_feature_guard.cc:210] This TensorFlow binary is optimized to use available CPU instructions in performance-critical operations.\n",
            "To enable the following instructions: AVX2 AVX512F FMA, in other operations, rebuild TensorFlow with the appropriate compiler flags.\n",
            "2024-10-17 15:01:31.686387: W tensorflow/compiler/tf2tensorrt/utils/py_utils.cc:38] TF-TRT Warning: Could not find TensorRT\n",
            "/usr/local/lib/python3.10/dist-packages/accelerate/accelerator.py:494: FutureWarning: `torch.cuda.amp.GradScaler(args...)` is deprecated. Please use `torch.amp.GradScaler('cuda', args...)` instead.\n",
            "  self.scaler = torch.cuda.amp.GradScaler(**kwargs)\n",
            "10/17/2024 15:01:33 - INFO - __main__ - Distributed environment: NO\n",
            "Num processes: 1\n",
            "Process index: 0\n",
            "Local process index: 0\n",
            "Device: cuda\n",
            "\n",
            "Mixed precision type: fp16\n",
            "\n",
            "/usr/local/lib/python3.10/dist-packages/transformers/tokenization_utils_base.py:1601: FutureWarning: `clean_up_tokenization_spaces` was not set. It will be set to `True` by default. This behavior will be depracted in transformers v4.45, and will be then set to `False` by default. For more details check this issue: https://github.com/huggingface/transformers/issues/31884\n",
            "  warnings.warn(\n",
            "{'clip_sample_range', 'timestep_spacing', 'variance_type', 'prediction_type', 'thresholding', 'sample_max_value', 'rescale_betas_zero_snr', 'dynamic_thresholding_ratio'} was not found in config. Values will be initialized to default values.\n",
            "{'mid_block_add_attention', 'use_post_quant_conv', 'force_upcast', 'shift_factor', 'scaling_factor', 'latents_std', 'use_quant_conv', 'latents_mean'} was not found in config. Values will be initialized to default values.\n",
            "{'upcast_attention', 'resnet_out_scale_factor', 'timestep_post_act', 'addition_embed_type', 'time_cond_proj_dim', 'addition_embed_type_num_heads', 'dropout', 'class_embeddings_concat', 'resnet_skip_time_act', 'num_attention_heads', 'reverse_transformer_layers_per_block', 'only_cross_attention', 'time_embedding_act_fn', 'resnet_time_scale_shift', 'mid_block_only_cross_attention', 'num_class_embeds', 'cross_attention_norm', 'transformer_layers_per_block', 'attention_type', 'time_embedding_dim', 'addition_time_embed_dim', 'encoder_hid_dim_type', 'time_embedding_type', 'mid_block_type', 'class_embed_type', 'use_linear_projection', 'encoder_hid_dim', 'dual_cross_attention', 'projection_class_embeddings_input_dim', 'conv_in_kernel', 'conv_out_kernel'} was not found in config. Values will be initialized to default values.\n",
            "{'transformer_layers_per_block', 'attention_type', 'addition_time_embed_dim', 'encoder_hid_dim_type', 'num_attention_heads', 'reverse_transformer_layers_per_block', 'dropout'} was not found in config. Values will be initialized to default values.\n",
            "/content/drive/.shortcut-targets-by-id/1LXBeZiikew2FOH4LsCpzF_5fGdV5TxTg/D2T/train_controlnext/controlnext_training/models/IP_adapter.py:149: FutureWarning: You are using `torch.load` with `weights_only=False` (the current default value), which uses the default pickle module implicitly. It is possible to construct malicious pickle data which will execute arbitrary code during unpickling (See https://github.com/pytorch/pytorch/blob/main/SECURITY.md#untrusted-models for more details). In a future release, the default value for `weights_only` will be flipped to `True`. This limits the functions that could be executed during unpickling. Arbitrary objects will no longer be allowed to be loaded via this mode unless they are explicitly allowlisted by the user via `torch.serialization.add_safe_globals`. We recommend you start setting `weights_only=True` for any use case where you don't have full control of the loaded file. Please open an issue on GitHub for any issues related to this experimental feature.\n",
            "  state_dict = torch.load(ckpt_path, map_location=\"cpu\")\n",
            "Successfully loaded weights from checkpoint /content/weightsdir/ip-adapter_sd15.bin\n",
            "10/17/2024 15:01:37 - INFO - __main__ - Initializing controlnext weights from unet\n",
            "10/17/2024 15:01:41 - INFO - __main__ - ***** Running training *****\n",
            "10/17/2024 15:01:41 - INFO - __main__ -   Num examples = 1\n",
            "10/17/2024 15:01:41 - INFO - __main__ -   Num batches each epoch = 1\n",
            "10/17/2024 15:01:41 - INFO - __main__ -   Num Epochs = 4\n",
            "10/17/2024 15:01:41 - INFO - __main__ -   Instantaneous batch size per device = 1\n",
            "10/17/2024 15:01:41 - INFO - __main__ -   Total train batch size (w. parallel, distributed & accumulation) = 1\n",
            "10/17/2024 15:01:41 - INFO - __main__ -   Gradient Accumulation steps = 1\n",
            "10/17/2024 15:01:41 - INFO - __main__ -   Total optimization steps = 4\n",
            "Steps:   0% 0/4 [00:00<?, ?it/s]/usr/local/lib/python3.10/dist-packages/diffusers/models/downsampling.py:135: FutureWarning: `scale` is deprecated and will be removed in version 1.0.0. The `scale` argument is deprecated and will be ignored. Please remove it, as passing it will raise an error in the future. `scale` should directly be passed while calling the underlying pipeline component i.e., via `cross_attention_kwargs`.\n",
            "  deprecate(\"scale\", \"1.0.0\", deprecation_message)\n",
            "Steps: 100% 4/4 [00:04<00:00,  1.10s/it, loss=nan, lr=0.0001]\n"
          ]
        }
      ]
    },
    {
      "cell_type": "code",
      "source": [],
      "metadata": {
        "id": "cTSSdzy0PSpM"
      },
      "execution_count": null,
      "outputs": []
    }
  ]
}