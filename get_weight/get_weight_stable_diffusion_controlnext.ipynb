{
 "cells": [
  {
   "cell_type": "code",
   "execution_count": null,
   "metadata": {},
   "outputs": [],
   "source": [
    "import os"
   ]
  },
  {
   "cell_type": "code",
   "execution_count": null,
   "metadata": {},
   "outputs": [],
   "source": [
    "weight_dir_path = ''"
   ]
  },
  {
   "cell_type": "code",
   "execution_count": null,
   "metadata": {},
   "outputs": [],
   "source": [
    "weight_dir = os.makedirs(weight_dir_path, exist_ok= True)"
   ]
  },
  {
   "cell_type": "code",
   "execution_count": null,
   "metadata": {},
   "outputs": [],
   "source": [
    "%cd f\"{weight_dir_path}\"\n"
   ]
  },
  {
   "cell_type": "code",
   "execution_count": null,
   "metadata": {},
   "outputs": [],
   "source": [
    "!wget https://huggingface.co/Pbihao/ControlNeXt/resolve/main/ControlNeXt-SD1.5/deepfashion_caption/controlnet.safetensors\n",
    "!wget https://huggingface.co/Pbihao/ControlNeXt/resolve/main/ControlNeXt-SD1.5/deepfashion_caption/unet.safetensors\n",
    "!wget https://huggingface.co/h94/IP-Adapter/resolve/main/models/ip-adapter_sd15.bin\n"
   ]
  },
  {
   "cell_type": "code",
   "execution_count": null,
   "metadata": {},
   "outputs": [],
   "source": [
    "clip_model_path = os.path.join(weight_dir_path, 'clip_model')\n",
    "os.makedirs(clip_model_path, exist_ok= True)"
   ]
  },
  {
   "cell_type": "code",
   "execution_count": null,
   "metadata": {},
   "outputs": [],
   "source": [
    "%cd f\"{clip_model_path}\""
   ]
  },
  {
   "cell_type": "code",
   "execution_count": null,
   "metadata": {},
   "outputs": [],
   "source": [
    "!wget https://huggingface.co/h94/IP-Adapter/resolve/main/models/image_encoder/pytorch_model.bin\n",
    "!wget https://huggingface.co/h94/IP-Adapter/resolve/main/models/image_encoder/config.json\n",
    "!wget https://huggingface.co/h94/IP-Adapter/resolve/main/models/image_encoder/model.safetensors"
   ]
  },
  {
   "cell_type": "code",
   "execution_count": null,
   "metadata": {},
   "outputs": [],
   "source": [
    "%cd ..\n",
    "!mkdir unet \n",
    "\n"
   ]
  },
  {
   "cell_type": "code",
   "execution_count": null,
   "metadata": {},
   "outputs": [],
   "source": [
    "%cd unet\n",
    "!wget https://huggingface.co/SG161222/Realistic_Vision_V5.1_noVAE/resolve/main/unet/diffusion_pytorch_model.safetensors\n",
    "!wget https://huggingface.co/SG161222/Realistic_Vision_V5.1_noVAE/resolve/main/unet/config.json"
   ]
  }
 ],
 "metadata": {
  "kernelspec": {
   "display_name": "chaos",
   "language": "python",
   "name": "python3"
  },
  "language_info": {
   "name": "python",
   "version": "3.9.18"
  }
 },
 "nbformat": 4,
 "nbformat_minor": 2
}
